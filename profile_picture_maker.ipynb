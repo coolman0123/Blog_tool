{
  "nbformat": 4,
  "nbformat_minor": 0,
  "metadata": {
    "colab": {
      "provenance": [],
      "authorship_tag": "ABX9TyOXqg88kY5wSD91RcTj2eGE",
      "include_colab_link": true
    },
    "kernelspec": {
      "name": "python3",
      "display_name": "Python 3"
    },
    "language_info": {
      "name": "python"
    }
  },
  "cells": [
    {
      "cell_type": "markdown",
      "metadata": {
        "id": "view-in-github",
        "colab_type": "text"
      },
      "source": [
        "<a href=\"https://colab.research.google.com/github/coolman0123/Blog_tool/blob/main/profile_picture_maker.ipynb\" target=\"_parent\"><img src=\"https://colab.research.google.com/assets/colab-badge.svg\" alt=\"Open In Colab\"/></a>"
      ]
    },
    {
      "cell_type": "code",
      "execution_count": null,
      "metadata": {
        "colab": {
          "base_uri": "https://localhost:8080/"
        },
        "id": "xKs8KKkGSXmN",
        "outputId": "1e989097-9a61-4963-df55-a3e0ed0af6ad"
      },
      "outputs": [
        {
          "output_type": "stream",
          "name": "stdout",
          "text": [
            "이미지가 저장되었습니다: /content/생활꿀팁_프로필.png\n"
          ]
        }
      ],
      "source": [
        "from PIL import Image, ImageDraw, ImageFont\n",
        "\n",
        "# 이미지 및 색상 설정\n",
        "img_size = 400\n",
        "border_size = 20\n",
        "border_width = 16\n",
        "border_color = (0, 128, 255)  # 파란색\n",
        "bg_color = (255, 255, 255)    # 흰색\n",
        "text_color = (0, 0, 0)        # 검정색\n",
        "\n",
        "# 이미지 생성\n",
        "img = Image.new(\"RGB\", (img_size, img_size), bg_color)\n",
        "draw = ImageDraw.Draw(img)\n",
        "\n",
        "# 외곽선 그리기\n",
        "draw.rectangle(\n",
        "    [\n",
        "        border_size + border_width // 2,\n",
        "        border_size + border_width // 2,\n",
        "        img_size - border_size - border_width // 2,\n",
        "        img_size - border_size - border_width // 2\n",
        "    ],\n",
        "    outline=border_color, width=border_width\n",
        ")\n",
        "\n",
        "# 폰트 설정\n",
        "try:\n",
        "    font_size = 90\n",
        "    font = ImageFont.truetype(\"NanumGothicBold.ttf\", font_size)\n",
        "except IOError:\n",
        "    print(\"폰트를 찾을 수 없어 기본 폰트로 대체합니다.\")\n",
        "    font = ImageFont.load_default()\n",
        "\n",
        "# 텍스트 구성\n",
        "lines = [\"생활\", \"꿀팁\"]\n",
        "\n",
        "# 각 줄의 bbox 계산\n",
        "bboxes = [draw.textbbox((0, 0), line, font=font) for line in lines]\n",
        "line_heights = [bbox[3] - bbox[1] for bbox in bboxes]\n",
        "line_widths = [bbox[2] - bbox[0] for bbox in bboxes]\n",
        "\n",
        "# 줄간 간격은 글자 높이 기준 비례값 사용 (30%)\n",
        "line_spacing = int(font_size * 0.4)\n",
        "\n",
        "# 전체 텍스트 높이\n",
        "total_text_height = sum(line_heights) + line_spacing * (len(lines) - 1)\n",
        "\n",
        "# 시작 Y 좌표 계산 (중앙 정렬)\n",
        "start_y = (img_size - total_text_height) / 2\n",
        "\n",
        "# 각 줄 배치\n",
        "for i, line in enumerate(lines):\n",
        "    text_x = (img_size - line_widths[i]) / 2\n",
        "    draw.text((text_x, start_y), line, fill=text_color, font=font)\n",
        "    start_y += line_heights[i] + line_spacing\n",
        "\n",
        "# 저장 및 표시\n",
        "img_path = \"/content/생활꿀팁_프로필.png\"\n",
        "img.save(img_path)\n",
        "img.show()\n",
        "\n",
        "print(f\"이미지가 저장되었습니다: {img_path}\")"
      ]
    },
    {
      "cell_type": "code",
      "source": [
        "# 예시: 나눔고딕 볼드 다운로드 (리눅스 환경 기준)\n",
        "!apt-get install -y fonts-nanum"
      ],
      "metadata": {
        "colab": {
          "base_uri": "https://localhost:8080/"
        },
        "id": "M3ggVqWgSvwD",
        "outputId": "316467e3-f0c9-43e4-8783-889dccc959d9"
      },
      "execution_count": null,
      "outputs": [
        {
          "output_type": "stream",
          "name": "stdout",
          "text": [
            "Reading package lists... Done\n",
            "Building dependency tree... Done\n",
            "Reading state information... Done\n",
            "The following NEW packages will be installed:\n",
            "  fonts-nanum\n",
            "0 upgraded, 1 newly installed, 0 to remove and 30 not upgraded.\n",
            "Need to get 10.3 MB of archives.\n",
            "After this operation, 34.1 MB of additional disk space will be used.\n",
            "Get:1 http://archive.ubuntu.com/ubuntu jammy/universe amd64 fonts-nanum all 20200506-1 [10.3 MB]\n",
            "Fetched 10.3 MB in 1s (8,774 kB/s)\n",
            "Selecting previously unselected package fonts-nanum.\n",
            "(Reading database ... 126315 files and directories currently installed.)\n",
            "Preparing to unpack .../fonts-nanum_20200506-1_all.deb ...\n",
            "Unpacking fonts-nanum (20200506-1) ...\n",
            "Setting up fonts-nanum (20200506-1) ...\n",
            "Processing triggers for fontconfig (2.13.1-4.2ubuntu5) ...\n"
          ]
        }
      ]
    },
    {
      "cell_type": "code",
      "source": [
        "!pip install PTL"
      ],
      "metadata": {
        "colab": {
          "base_uri": "https://localhost:8080/"
        },
        "id": "wlUfUavRSiXQ",
        "outputId": "b13a7791-d2b5-4145-cc4e-514898517599"
      },
      "execution_count": null,
      "outputs": [
        {
          "output_type": "stream",
          "name": "stdout",
          "text": [
            "Collecting PTL\n",
            "  Downloading ptl-0.3.0-py3-none-any.whl.metadata (12 kB)\n",
            "Downloading ptl-0.3.0-py3-none-any.whl (22 kB)\n",
            "Installing collected packages: PTL\n",
            "Successfully installed PTL-0.3.0\n"
          ]
        }
      ]
    }
  ]
}